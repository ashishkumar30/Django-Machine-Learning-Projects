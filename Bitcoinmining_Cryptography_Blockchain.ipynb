{
  "nbformat": 4,
  "nbformat_minor": 0,
  "metadata": {
    "colab": {
      "name": "Bitcoinmining-Cryptography-Blockchain.ipynb",
      "private_outputs": true,
      "provenance": [],
      "collapsed_sections": [],
      "authorship_tag": "ABX9TyPdAcmucO7zJ1H4vP6oDfwC",
      "include_colab_link": true
    },
    "kernelspec": {
      "name": "python3",
      "display_name": "Python 3"
    },
    "accelerator": "GPU"
  },
  "cells": [
    {
      "cell_type": "markdown",
      "metadata": {
        "id": "view-in-github",
        "colab_type": "text"
      },
      "source": [
        "<a href=\"https://colab.research.google.com/github/ashishkumar30/Django-Projects/blob/master/Bitcoinmining_Cryptography_Blockchain.ipynb\" target=\"_parent\"><img src=\"https://colab.research.google.com/assets/colab-badge.svg\" alt=\"Open In Colab\"/></a>"
      ]
    },
    {
      "cell_type": "markdown",
      "metadata": {
        "id": "vcDDCWHGkHOb"
      },
      "source": [
        "##Bitcoin Mining"
      ]
    },
    {
      "cell_type": "markdown",
      "metadata": {
        "id": "PAsDy_BdkDLw"
      },
      "source": [
        " Bitcoin mining is performed by high-powered computers that solve complex computational math problems; these problems are so complex that they cannot be solved by hand and are complicated enough to tax even incredibly powerful computers."
      ]
    },
    {
      "cell_type": "markdown",
      "metadata": {
        "id": "HMXhTWJKkNdO"
      },
      "source": [
        "* Bitcoin mining is the process of creating new bitcoin by solving a computational puzzle.\r\n",
        "* Bitcoin mining is necessary to maintain the ledger of transactions upon which bitcoin is based.\r\n",
        "* Miners have become very sophisticated over the last several years using complex machinery to speed up mining operations."
      ]
    },
    {
      "cell_type": "markdown",
      "metadata": {
        "id": "K5p96U7-krS0"
      },
      "source": [
        "##Block Chain"
      ]
    },
    {
      "cell_type": "markdown",
      "metadata": {
        "id": "cOifZnblk23Q"
      },
      "source": [
        "The block chain is a public record of Bitcoin transactions in chronological order. The block chain is shared between all Bitcoin users. It is used to verify the permanence of Bitcoin transactions and to prevent double spending."
      ]
    },
    {
      "cell_type": "markdown",
      "metadata": {
        "id": "JLPQSPF6kxul"
      },
      "source": [
        "##Block"
      ]
    },
    {
      "cell_type": "markdown",
      "metadata": {
        "id": "hIKGgs0sk03T"
      },
      "source": [
        "A block is a record in the block chain that contains and confirms many waiting transactions. Roughly every 10 minutes, on average, a new block including transactions is appended to the block chain through mining."
      ]
    },
    {
      "cell_type": "markdown",
      "metadata": {
        "id": "Qan1zqIjk6Hh"
      },
      "source": [
        "##Cryptography"
      ]
    },
    {
      "cell_type": "markdown",
      "metadata": {
        "id": "V8Sp5yOqk9Ex"
      },
      "source": [
        "Cryptography is the branch of mathematics that lets us create mathematical proofs that provide high levels of security. Online commerce and banking already uses cryptography. In the case of Bitcoin, cryptography is used to make it impossible for anybody to spend funds from another user's wallet or to corrupt the block chain. It can also be used to encrypt a wallet, so that it cannot be used without a password."
      ]
    },
    {
      "cell_type": "markdown",
      "metadata": {
        "id": "fjOLS03clxCf"
      },
      "source": [
        "##Hash function"
      ]
    },
    {
      "cell_type": "markdown",
      "metadata": {
        "id": "84eXfk-elt68"
      },
      "source": [
        "Cryptographic hash functions generate a fixed-length character string from data records of any length. A data record can be a word, a sentence, a longer text or an entire file.\r\n",
        "A cryptographic hash function is used for security purposes and constitutes the backbone of crypto security\r\n",
        "A hash function turns a random input of data (keys) into a string of bytes with a fixed length and structure (hash value) \r\n",
        "The hash of a transaction makes it easy to identify transactions on the blockchain\r\n"
      ]
    },
    {
      "cell_type": "markdown",
      "metadata": {
        "id": "ofmY3C6_m0Bs"
      },
      "source": [
        "##This is an Example to understand bitcoin mining - Blockchain using Python"
      ]
    },
    {
      "cell_type": "markdown",
      "metadata": {
        "id": "-Ifr8810eMON"
      },
      "source": [
        "install required libraries using pip "
      ]
    },
    {
      "cell_type": "code",
      "metadata": {
        "id": "I01efOLbesOe"
      },
      "source": [
        "#pip install tabula-py"
      ],
      "execution_count": null,
      "outputs": []
    },
    {
      "cell_type": "markdown",
      "metadata": {
        "id": "nxEPrReSe1br"
      },
      "source": [
        "Filename"
      ]
    },
    {
      "cell_type": "code",
      "metadata": {
        "id": "1WQZvKK8qMC2"
      },
      "source": [
        "filename=\"Bank_statment_ashish_icici.pdf\""
      ],
      "execution_count": null,
      "outputs": []
    },
    {
      "cell_type": "markdown",
      "metadata": {
        "id": "MRbqg99ae5nt"
      },
      "source": [
        "##Import all required libraries"
      ]
    },
    {
      "cell_type": "code",
      "metadata": {
        "id": "_ZH3Pv99pHkt"
      },
      "source": [
        "import torch  # to check hardware GPU or CPU\r\n",
        "import tabula # to read data from pdf\r\n",
        "import time   # to calculate time\r\n",
        "from PIL import Image  # to display image\r\n",
        "from hashlib import sha256 # to generate hash function"
      ],
      "execution_count": null,
      "outputs": []
    },
    {
      "cell_type": "markdown",
      "metadata": {
        "id": "YY2qcNGPe9iO"
      },
      "source": [
        "##Load image to see all transactions"
      ]
    },
    {
      "cell_type": "code",
      "metadata": {
        "id": "BWL__w_Ivljb"
      },
      "source": [
        "img=Image.open('statment.jpg')\r\n",
        "img"
      ],
      "execution_count": null,
      "outputs": []
    },
    {
      "cell_type": "markdown",
      "metadata": {
        "id": "-z_cdTvkfV8D"
      },
      "source": [
        "##Checking Hardware Present for mining: - GPU or CPU  "
      ]
    },
    {
      "cell_type": "code",
      "metadata": {
        "id": "FVsX1a8xpXLY"
      },
      "source": [
        "gpu_available=torch.cuda.is_available()\r\n",
        "print(gpu_available)\r\n",
        "if gpu_available:\r\n",
        "    print('GPU Available! Training on GPU')\r\n",
        "else:\r\n",
        "    print('GPU not Available! Training on CPU')"
      ],
      "execution_count": null,
      "outputs": []
    },
    {
      "cell_type": "markdown",
      "metadata": {
        "id": "3krp86CMffBB"
      },
      "source": [
        "##Read pdf of Bank statment and Extract data "
      ]
    },
    {
      "cell_type": "code",
      "metadata": {
        "id": "DmvcyngPr4pU"
      },
      "source": [
        "all_transaction =tabula.read_pdf(filename, pages=\"all\")\r\n",
        "print(\"Data Extracted From Bank Statment\")"
      ],
      "execution_count": null,
      "outputs": []
    },
    {
      "cell_type": "markdown",
      "metadata": {
        "id": "YMlQ5rijft7a"
      },
      "source": [
        "##Getting All Transactions"
      ]
    },
    {
      "cell_type": "code",
      "metadata": {
        "id": "vRuJiZbfsCuZ"
      },
      "source": [
        "all_transaction=all_transaction[0].fillna(\" \")\r\n",
        "all_transaction"
      ],
      "execution_count": null,
      "outputs": []
    },
    {
      "cell_type": "markdown",
      "metadata": {
        "id": "x2faX3otf1aF"
      },
      "source": [
        "##Cleaning Transactions and converting them to string"
      ]
    },
    {
      "cell_type": "code",
      "metadata": {
        "id": "0yb6fewzsJ6l"
      },
      "source": [
        "all_transaction_data = []\r\n",
        "for single_trans in range(len(all_transaction)):\r\n",
        "    single_transaction = \" , \".join([str(change_str) for change_str in all_transaction.iloc[single_trans].to_list()]).replace(\"\\r\",' ').replace(\"/\",' ')\r\n",
        "    all_transaction_data.append(single_transaction)\r\n",
        "all_transaction_data"
      ],
      "execution_count": null,
      "outputs": []
    },
    {
      "cell_type": "markdown",
      "metadata": {
        "id": "zKf2robRf8JC"
      },
      "source": [
        "##Using shah256 for generating 64 bit string"
      ]
    },
    {
      "cell_type": "code",
      "metadata": {
        "id": "6o0ew08tLyCQ"
      },
      "source": [
        "# getting value of shah256\r\n",
        "def converting_to_SHA256_(text):\r\n",
        "    # converting text to shah256 and converting to ascii\r\n",
        "    return sha256(text.encode(\"ascii\")).hexdigest()"
      ],
      "execution_count": null,
      "outputs": []
    },
    {
      "cell_type": "markdown",
      "metadata": {
        "id": "dQdKrW26gCOG"
      },
      "source": [
        "##Bitcoin Mining function"
      ]
    },
    {
      "cell_type": "code",
      "metadata": {
        "id": "uVc-Pkd5P05j"
      },
      "source": [
        "def mining_function(block_number, transactions, previous_hash, difficulty):\r\n",
        "    \"\"\"\r\n",
        "    Hash function consist of :- block_number + transactions + prev_hash + nonce\r\n",
        "    block_number:- which block it is\r\n",
        "    transactions:- the current transaction\r\n",
        "    previous_hash:- value of previous hash\r\n",
        "    difficulty:- we have to find string shah256 starting  from 00000 or no of given difficulty\r\n",
        "\r\n",
        "\r\n",
        "    \"\"\"\r\n",
        "\r\n",
        "    # difficulty level to guess\r\n",
        "    prefix_str = '0' * difficulty\r\n",
        "\r\n",
        "    nonce = 0\r\n",
        "\r\n",
        "    # starting time\r\n",
        "    start = time.time()\r\n",
        "\r\n",
        "    while True:\r\n",
        "        # generate the text\r\n",
        "        text = str(block_number) + transactions + previous_hash + str(nonce)\r\n",
        "\r\n",
        "        # convert it to shah256\r\n",
        "        new_hash = converting_to_SHA256_(text)\r\n",
        "\r\n",
        "        # check the condition if condition is true then we found hash value BTC \r\n",
        "        if new_hash.startswith(prefix_str):\r\n",
        "            # end time , or total time taken to find hash value from algorithm\r\n",
        "            total_time = float((time.time() - start))\r\n",
        "\r\n",
        "            print(f\"Successfully mined bitcoins with nonce value: '{nonce}' for block: '{block_number}'\")\r\n",
        "            print(f\"New Hash Value is: '{new_hash}'\")\r\n",
        "            print(f\"Transactions for: '{transactions}'\")\r\n",
        "            print(f\"Time taken for this mining is: {round(total_time / 60, 4)} minutes\", \"\\n\")\r\n",
        "\r\n",
        "            break\r\n",
        "\r\n",
        "        # increase nonce\r\n",
        "        nonce = nonce + 1\r\n",
        "\r\n",
        "    return new_hash\r\n"
      ],
      "execution_count": null,
      "outputs": []
    },
    {
      "cell_type": "markdown",
      "metadata": {
        "id": "GdiespBDgP1g"
      },
      "source": [
        "##Run function on all Transaction one by one and generate Hash value , Mine Bitcoin"
      ]
    },
    {
      "cell_type": "markdown",
      "metadata": {
        "id": "jetgiBLejx0Y"
      },
      "source": [
        "Assume that evey transaction entry is ledger"
      ]
    },
    {
      "cell_type": "code",
      "metadata": {
        "id": "rPq4vaNBSESE"
      },
      "source": [
        "# defining previous hash\r\n",
        "prev_hash = '0000000xa036944e29568d0cff17edbe038f81208fecf9a66be9a2b8321c6ec7'\r\n",
        "\r\n",
        "# difficulty level to solve \r\n",
        "difficulty = 6\r\n",
        "\r\n",
        "# run loop which extract transaction one by one from Ledger and generate its hash value\r\n",
        "for block_number, transactions in enumerate(all_transaction_data):\r\n",
        "    # call mining function\r\n",
        "    new_hash = mining_function(block_number, transactions, prev_hash, difficulty)\r\n",
        "\r\n",
        "    # now new hash is found so change previous hash to new hash\r\n",
        "    prev_hash = new_hash\r\n"
      ],
      "execution_count": null,
      "outputs": []
    },
    {
      "cell_type": "code",
      "metadata": {
        "id": "NC4et-hSpokF"
      },
      "source": [
        ""
      ],
      "execution_count": null,
      "outputs": []
    }
  ]
}