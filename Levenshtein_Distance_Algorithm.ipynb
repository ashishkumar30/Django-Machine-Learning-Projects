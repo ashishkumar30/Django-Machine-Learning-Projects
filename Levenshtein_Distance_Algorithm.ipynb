{
  "nbformat": 4,
  "nbformat_minor": 0,
  "metadata": {
    "kernelspec": {
      "display_name": "Python 3",
      "language": "python",
      "name": "python3"
    },
    "language_info": {
      "codemirror_mode": {
        "name": "ipython",
        "version": 3
      },
      "file_extension": ".py",
      "mimetype": "text/x-python",
      "name": "python",
      "nbconvert_exporter": "python",
      "pygments_lexer": "ipython3",
      "version": "3.8.5"
    },
    "colab": {
      "name": "Levenshtein Distance Algorithm.ipynb",
      "provenance": [],
      "include_colab_link": true
    }
  },
  "cells": [
    {
      "cell_type": "markdown",
      "metadata": {
        "id": "view-in-github",
        "colab_type": "text"
      },
      "source": [
        "<a href=\"https://colab.research.google.com/github/ashishkumar30/Django-Projects/blob/master/Levenshtein_Distance_Algorithm.ipynb\" target=\"_parent\"><img src=\"https://colab.research.google.com/assets/colab-badge.svg\" alt=\"Open In Colab\"/></a>"
      ]
    },
    {
      "cell_type": "markdown",
      "metadata": {
        "id": "4cbRS_f7zxAA"
      },
      "source": [
        "# Implementing The Levenshtein Distance for Word Autocompletion and Autocorrection"
      ]
    },
    {
      "cell_type": "markdown",
      "metadata": {
        "id": "2ymoKfKxzxAG"
      },
      "source": [
        "The Levenshtein distance is a text similarity measure that compares two words and returns a numeric value representing the distance between them. The distance reflects the total number of single-character edits required to transform one word into another. The more similar the two words are the less distance between them, and vice versa. One common use for this distance is in the autocompletion or autocorrection features of text processors or chat applications."
      ]
    },
    {
      "cell_type": "markdown",
      "metadata": {
        "id": "kRMa1jLczxAH"
      },
      "source": [
        "* Creating the distances matrix\n",
        "* Initializing the distances matrix\n",
        "* Printing the distances matrix\n",
        "* Calculating distances between all prefixes\n",
        "* Dictionary search for autocompletion/autocorrection"
      ]
    },
    {
      "cell_type": "code",
      "metadata": {
        "id": "gphZ8sC5zxAH"
      },
      "source": [
        "import numpy as np"
      ],
      "execution_count": null,
      "outputs": []
    },
    {
      "cell_type": "markdown",
      "metadata": {
        "id": "uTCNVCdWzxAI"
      },
      "source": [
        "### Code"
      ]
    },
    {
      "cell_type": "code",
      "metadata": {
        "id": "0WFQ7lGyzxAI"
      },
      "source": [
        "\n",
        "def levenshtein_ratio_and_distance(s, t, ratio_calc = False):\n",
        "    \n",
        "    # Initialize matrix of zeros\n",
        "    \n",
        "    rows = len(s)+1\n",
        "    cols = len(t)+1\n",
        "    distance = np.zeros((rows,cols),dtype = int)\n",
        "    \n",
        "    # Populate matrix of zeros with the indeces of each character of both strings\n",
        "    \n",
        "    for i in range(1, rows):\n",
        "        for k in range(1,cols):\n",
        "            distance[i][0] = i\n",
        "            distance[0][k] = k\n",
        "            \n",
        "    # Iterate over the matrix to compute the cost of deletions,insertions and/or substitutions  \n",
        "    \n",
        "    for col in range(1, cols):\n",
        "        for row in range(1, rows):\n",
        "            if s[row-1] == t[col-1]:\n",
        "                \n",
        "                cost = 0 # If the characters are the same in the two strings in a given position [i,j] then the cost is 0\n",
        "            \n",
        "            else:\n",
        "                \n",
        "                # the cost of a substitution is 2. If we calculate just distance, then the cost of a substitution is 1.\n",
        "                \n",
        "                if ratio_calc == True:\n",
        "                    cost = 2\n",
        "                else:\n",
        "                    cost = 1\n",
        "                    \n",
        "            distance[row][col] = min(distance[row-1][col] + 1,      # Cost of deletions\n",
        "                                 distance[row][col-1] + 1,          # Cost of insertions\n",
        "                                 distance[row-1][col-1] + cost)     # Cost of substitutions\n",
        "    if ratio_calc == True:\n",
        "        \n",
        "        # Computation of the Levenshtein Distance Ratio\n",
        "        \n",
        "        Ratio = ((len(s)+len(t)) - distance[row][col]) / (len(s)+len(t))\n",
        "        \n",
        "        return Ratio\n",
        "    \n",
        "    else:\n",
        "        \n",
        "        return \"The strings are {} Distance away\".format(distance[row][col])"
      ],
      "execution_count": null,
      "outputs": []
    },
    {
      "cell_type": "markdown",
      "metadata": {
        "id": "wiKmRJSpzxAJ"
      },
      "source": [
        "## Output"
      ]
    },
    {
      "cell_type": "code",
      "metadata": {
        "id": "ZEMqfjalzxAJ"
      },
      "source": [
        "string_1='Delhi India'\n",
        "string_2='New Delhi India'"
      ],
      "execution_count": null,
      "outputs": []
    },
    {
      "cell_type": "code",
      "metadata": {
        "id": "y7zo0DJ-zxAJ",
        "outputId": "5010685b-f800-438e-8db8-6102f42b5234"
      },
      "source": [
        "levenshtein_ratio_and_distance(string_1, string_2, ratio_calc = False)"
      ],
      "execution_count": null,
      "outputs": [
        {
          "output_type": "execute_result",
          "data": {
            "text/plain": [
              "'The strings are 4 Distance away'"
            ]
          },
          "metadata": {
            "tags": []
          },
          "execution_count": 21
        }
      ]
    },
    {
      "cell_type": "markdown",
      "metadata": {
        "id": "G8mHgshLzxAK"
      },
      "source": [
        "*****"
      ]
    }
  ]
}